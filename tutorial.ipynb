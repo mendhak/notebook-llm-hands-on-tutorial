{
 "cells": [
  {
   "cell_type": "markdown",
   "metadata": {},
   "source": [
    "Python Notebook accompanying this tutorial: https://code.mendhak.com/hands-on-llm-tutorial/"
   ]
  },
  {
   "cell_type": "code",
   "execution_count": null,
   "metadata": {},
   "outputs": [],
   "source": [
    "! pip install langchain openai python-dotenv"
   ]
  },
  {
   "cell_type": "code",
   "execution_count": null,
   "metadata": {},
   "outputs": [],
   "source": [
    "from dotenv import load_dotenv\n",
    "load_dotenv()"
   ]
  },
  {
   "cell_type": "code",
   "execution_count": null,
   "metadata": {},
   "outputs": [],
   "source": [
    "from langchain.chat_models import ChatOpenAI\n",
    "llm = ChatOpenAI(temperature=1, model=\"gpt-3.5-turbo\")"
   ]
  },
  {
   "cell_type": "code",
   "execution_count": null,
   "metadata": {},
   "outputs": [],
   "source": [
    "# Change the temperature above and observe the output. Set to temperature = 2.\n",
    "llm.predict(\"The sky is \")"
   ]
  },
  {
   "cell_type": "code",
   "execution_count": null,
   "metadata": {},
   "outputs": [],
   "source": [
    "from langchain.chat_models import ChatOpenAI\n",
    "llm = ChatOpenAI(temperature=0.1, model=\"gpt-3.5-turbo\")"
   ]
  },
  {
   "cell_type": "code",
   "execution_count": null,
   "metadata": {},
   "outputs": [],
   "source": [
    "text = \"\"\"\n",
    "Summarize the following news article in one paragraph:\n",
    "\n",
    "Air Seychelles has appointed Sandy Benoiton as its permanent chief executive after a period serving in the role on an interim basis.\n",
    "\n",
    "The island carrier says in a LinkedIn post that Benoiton's appointment was made on 1 August after he was appointed interim chief in July 2022.\n",
    "\n",
    "Benoiton's LinkedIn page shows he has spent more 23 years with Air Seychelles, the bulk of which he spent as the airline's chief operations officer.\n",
    "\n",
    "Meanwhile, Egbert Laurence has taken up the role of acting chairperson for a two-year period, alongside three other board members.\n",
    "\n",
    "The restructured airline recently announced profits of $8.4 million for 2022, the first time it has posted a positive annual result since 2016 and demonstrating an “exceptional recovery”, it said.\n",
    "\n",
    "As part of its recovery process the company, which is wholly-owned by the government of the Seychelles, entered administration and dramatically slashed its debt levels.\n",
    "\n",
    "It operates a fleet of two Airbus A320 and five De Havilland Canada Dash 6 aircraft, Cirium’s data shows.\n",
    "\"\"\"\n",
    "\n",
    "llm.predict(text)"
   ]
  },
  {
   "cell_type": "code",
   "execution_count": null,
   "metadata": {},
   "outputs": [],
   "source": [
    "text = \"\"\"\n",
    "Given this news article answer the question that follows.\n",
    "\n",
    "An Asteroid Will Occult Betelgeuse on December 12th\n",
    "\n",
    "I cannot for the life of me remember when it was or what it was but a fair few years ago I remember positioning a telescope to observe an asteroid as it silently and perhaps slightly eerily drifted between us and the Moon. I say eerily as this asteroid had the ability to cause widespread damage had it hit but of course we knew it posed no threat.  I remember at the time thinking it was mind blowing that even today, we still use mathematics with roots (pardon the pun) centuries old to calculate the position of objects in our Solar System. We get to see evidence of this again on 12th December when something rare happens!\n",
    "\n",
    "I have rather hinted to what I am referring, on 12th December, asteroid 319 Leona will pass directly in front of Betelgeuse, the red giant in the constellation of Orion whose name amusingly translates to armpit of the giant – now there’s a fact to amuse and astound your friends. To be able to calculate that a rock approximately 60 km across is going to pass directly in front of a star that is just over 650 light years away is really quite staggering.   \n",
    "\n",
    "Perhaps more excitingly if you live along a corridor from central Asia and southern Europe to Florida and Mexico then at around 01:17 UTC you have a chance – clouds permitting – to see it for yourself and you don’t need any telescope or equipment, just your eyes.  \n",
    "\n",
    "Betelgeuse is the second brightest star in the constellation Orion and is a familiar favourite with its piercing red colour. It hit the news back in 2020 when it unexpectedly dimmed in the sky due to the star itself ejecting a cloud of dust. Next month it will fade for a few seconds due to the passage of Leona right in front of it. An event like this is quite rare where the light from a bright star is blocked (or occulted) by an asteroid happening every few decades at most.  It will be fascinating to watch but is also scientifically useful giving us a chance to learn more about Betelgeuse and how it’s large convection cells behave, and to learn more about the orbit and shape of the asteroid too. \n",
    "Image of Orion showing Betelgeuse upper left.\n",
    "The Constellation of Orion showing Betelgeuse at upper left (Credit : Till Credner)\n",
    "\n",
    "Anyone out there wishing to observe the event needs to be warned though, the predictions are just that, there are a few uncertainties. The size and shape of the asteroid itself is still subject to debate. Typically we tend to assume asteroids are spherical unless we know otherwise but a previous occultation of Leona in September 2023 determined that it was more of ellipsoidal in shape measuring 80km by 55km. At its distance from Earth that means it will cover an area of sky 46 x 41 milliarcseconds which is a little more than the approximate 40 milliarcseconds for Betelgeuse.  Taking this into account suggests Betelgeuse will be completely blocked from view and therefore blink out for a few seconds. \n",
    "\n",
    "Betelgeuse’s somewhat diffuse outer atmosphere may mean its apparent size is more like 50 milliarcseconds so it just fades instead.   Until the event happens we will not know exactly how it will appear in the sky or exactly when.   It’s a great opportunity to learn more about these two fascinating objets so head outside on 12th December around 01:00 UTC, wait and watch and hopefully you can witness one of natures rather more rare events. \n",
    "\n",
    "---\n",
    "\n",
    "Question: What are the best locations to see the asteroid?\"\"\"\n",
    "\n",
    "llm.predict(text)"
   ]
  },
  {
   "cell_type": "code",
   "execution_count": null,
   "metadata": {},
   "outputs": [],
   "source": [
    "chat = \"\"\n",
    "while(True):\n",
    "  if chat==\"exit\":\n",
    "    break\n",
    "  else:\n",
    "    chat=input()\n",
    "    print(llm.predict(chat))"
   ]
  },
  {
   "cell_type": "code",
   "execution_count": null,
   "metadata": {},
   "outputs": [],
   "source": [
    "from langchain.chains import ConversationChain\n",
    "from langchain.memory import ConversationBufferMemory\n",
    "conversation = ConversationChain(llm=llm, memory=ConversationBufferMemory(), verbose=True)"
   ]
  },
  {
   "cell_type": "code",
   "execution_count": null,
   "metadata": {},
   "outputs": [],
   "source": [
    "print(conversation.prompt.template)"
   ]
  },
  {
   "cell_type": "code",
   "execution_count": null,
   "metadata": {},
   "outputs": [],
   "source": [
    "print(conversation.run(\"My favorite color is green\"))\n",
    "print(conversation.run(\"What is my favorite color?\"))"
   ]
  },
  {
   "cell_type": "code",
   "execution_count": null,
   "metadata": {},
   "outputs": [],
   "source": [
    "conversation = ConversationChain(llm=llm, memory=ConversationBufferMemory(), )\n",
    "loop=True\n",
    "chat=\"\"\n",
    "while(loop):\n",
    "  if chat==\"exit\":\n",
    "    break\n",
    "  else:\n",
    "    chat=input()\n",
    "    print(conversation.run(chat))\n"
   ]
  },
  {
   "cell_type": "code",
   "execution_count": null,
   "metadata": {},
   "outputs": [],
   "source": [
    "# Few shot examples\n",
    "from langchain import LLMChain\n",
    "from langchain.prompts.chat import (\n",
    "    ChatPromptTemplate,\n",
    "    SystemMessagePromptTemplate,\n",
    "    AIMessagePromptTemplate,\n",
    "    HumanMessagePromptTemplate,\n",
    ")\n",
    "\n",
    "system_message_prompt = SystemMessagePromptTemplate.from_template(\"You are a helpful assistant that outputs example Linux commands.I will describe what I want to do, and you will reply with a Linux command to accomplish that task. I want you to only reply with the Linux Bash command, and nothing else. Do not write explanations. Only output the command. If you don't have a Linux command to respond with, say you don't know, in an echo command\")\n",
    "example_human_1 = HumanMessagePromptTemplate.from_template(\"List files in the current directory\")\n",
    "example_ai_1 = AIMessagePromptTemplate.from_template(\"\\nls\\n\")\n",
    "example_human_2 = HumanMessagePromptTemplate.from_template(\"Push my git branch up\")\n",
    "example_ai_2 = AIMessagePromptTemplate.from_template(\"\\ngit push origin <branchname>\\n\")\n",
    "example_human_3 = HumanMessagePromptTemplate.from_template(\"What is your name?\")\n",
    "example_ai_3 = AIMessagePromptTemplate.from_template(\"\\necho Sorry, I don't know a bash command for that.\\n\")\n",
    "human_template = \"\\n{text}\\n\"\n",
    "human_message_prompt = HumanMessagePromptTemplate.from_template(human_template)\n",
    "\n",
    "\n",
    "chat_prompt = ChatPromptTemplate.from_messages(\n",
    "    [system_message_prompt, example_human_1, example_ai_1, example_human_2, example_ai_2, example_human_3, example_ai_3, human_message_prompt]\n",
    ")\n",
    "\n",
    "chain = LLMChain(llm=llm, prompt=chat_prompt, verbose=True)"
   ]
  },
  {
   "cell_type": "code",
   "execution_count": null,
   "metadata": {},
   "outputs": [],
   "source": [
    "print(chain.run(\"How to download a file from a URL?\"))\n",
    "print(chain.run(\"Which Linux distro am I running?\"))"
   ]
  },
  {
   "cell_type": "code",
   "execution_count": null,
   "metadata": {},
   "outputs": [],
   "source": [
    "! pip install beautifulsoup4"
   ]
  },
  {
   "cell_type": "code",
   "execution_count": null,
   "metadata": {},
   "outputs": [],
   "source": [
    "import requests\n",
    "from bs4 import BeautifulSoup\n",
    "\n",
    "def get_content_from_url(url):\n",
    "  headers={'User-Agent': 'Mozilla/5.0 (X11; Linux x86_64; rv:10.0) Gecko/20100101 Firefox/10.0'}\n",
    "  response = requests.get(url, headers=headers)\n",
    "  soup = BeautifulSoup(response.text, \"html.parser\")\n",
    "  return soup.find('body').text\n",
    "\n",
    "print(get_content_from_url('https://www.universetoday.com/164299/an-asteroid-will-occult-betelgeuse-on-december-12th/'))"
   ]
  },
  {
   "cell_type": "code",
   "execution_count": null,
   "metadata": {},
   "outputs": [],
   "source": [
    "from langchain.tools import Tool\n",
    "fetch_tool = Tool(name=\"get_content_from_page\",\n",
    "                  func=get_content_from_url, coroutine=get_content_from_url,\n",
    "                  description=\"Useful for when you need to get the contents of a web page\")"
   ]
  },
  {
   "cell_type": "code",
   "execution_count": null,
   "metadata": {},
   "outputs": [],
   "source": [
    "from langchain.agents import AgentType, initialize_agent\n",
    "agent = initialize_agent(\n",
    "    [fetch_tool], llm, agent=AgentType.ZERO_SHOT_REACT_DESCRIPTION, verbose=True, handle_parsing_errors=True\n",
    ")"
   ]
  },
  {
   "cell_type": "code",
   "execution_count": null,
   "metadata": {},
   "outputs": [],
   "source": [
    "agent.to_json()['repr']  # Look at the template"
   ]
  },
  {
   "cell_type": "markdown",
   "metadata": {},
   "source": [
    "\n",
    "\n",
    "template='Answer the following questions as best you can. You have access to the following tools:\n",
    "\n",
    "get_content_from_page: Useful for when you need to get the contents of a web page\n",
    "\n",
    "Use the following format:\n",
    "\n",
    "Question: the input question you must answer\n",
    "Thought: you should always think about what to do\n",
    "Action: the action to take, should be one of [get_content_from_page]\n",
    "Action Input: the input to the action\n",
    "Observation: the result of the action\n",
    "... (this Thought/Action/Action Input/Observation can repeat N times)\n",
    "Thought: I now know the final answer\n",
    "Final Answer: the final answer to the original input question\n",
    "\n",
    "Begin!\n",
    "\n",
    "Question: {input}\n",
    "Thought:{agent_scratchpad}'\n"
   ]
  },
  {
   "cell_type": "code",
   "execution_count": null,
   "metadata": {},
   "outputs": [],
   "source": [
    "agent.run(\"Please fetch and summarize the contents of this page:  https://code.mendhak.com/in-appreciation-of-fdroid/\")"
   ]
  },
  {
   "cell_type": "code",
   "execution_count": null,
   "metadata": {},
   "outputs": [],
   "source": [
    "# Document loading\n",
    "from langchain.document_loaders import WebBaseLoader\n",
    "\n",
    "urls = [\n",
    "    \"https://www.cirium.com/thoughtcloud/aviation-analytics-on-the-fly-london-busiest-overseas-airline-markets/\",\n",
    "    \"https://www.cirium.com/thoughtcloud/summer-in-spain-airline-market/\",\n",
    "    \"https://www.cirium.com/thoughtcloud/analysis-china-slower-post-pandemic-aviation-recovery/\",\n",
    "]\n",
    "loader = WebBaseLoader(urls)\n",
    "data = loader.load()"
   ]
  },
  {
   "cell_type": "code",
   "execution_count": null,
   "metadata": {},
   "outputs": [],
   "source": [
    "data"
   ]
  },
  {
   "cell_type": "code",
   "execution_count": null,
   "metadata": {},
   "outputs": [],
   "source": [
    "# Splitting the documents into chunks for embedding and vector storage\n",
    "\n",
    "from langchain.text_splitter import RecursiveCharacterTextSplitter\n",
    "\n",
    "text_splitter = RecursiveCharacterTextSplitter(chunk_size = 500, chunk_overlap = 0)\n",
    "documents = text_splitter.split_documents(data)"
   ]
  },
  {
   "cell_type": "code",
   "execution_count": null,
   "metadata": {},
   "outputs": [],
   "source": [
    "!pip install tiktoken\n",
    "!pip install faiss-cpu"
   ]
  },
  {
   "cell_type": "code",
   "execution_count": null,
   "metadata": {},
   "outputs": [],
   "source": [
    "# Get embeddings using the ADA model, and store the embeddings in a vector DB... just use FAISS for now\n",
    "# FAISS is a similarity search library for embeddings.\n",
    "from langchain.embeddings import OpenAIEmbeddings\n",
    "from langchain.vectorstores import FAISS\n",
    "embeddings = OpenAIEmbeddings(model=\"text-embedding-ada-002\")\n"
   ]
  },
  {
   "cell_type": "code",
   "execution_count": null,
   "metadata": {},
   "outputs": [],
   "source": [
    "test_embedding = embeddings.embed_query(\"The quick brown fox jumps over the lazy little dogs\")"
   ]
  },
  {
   "cell_type": "code",
   "execution_count": null,
   "metadata": {},
   "outputs": [],
   "source": [
    "print(test_embedding)\n",
    "len(test_embedding)"
   ]
  },
  {
   "cell_type": "code",
   "execution_count": null,
   "metadata": {},
   "outputs": [],
   "source": [
    "db = FAISS.from_documents(documents, embeddings)"
   ]
  },
  {
   "cell_type": "code",
   "execution_count": null,
   "metadata": {},
   "outputs": [],
   "source": [
    "db.similarity_search_with_score(\"Where did EasyJet cut capacity?\")\n"
   ]
  },
  {
   "cell_type": "code",
   "execution_count": null,
   "metadata": {},
   "outputs": [],
   "source": [
    "# Ask a question and retrieve the most likely document\n",
    "retriever = db.as_retriever()\n",
    "# retriever = db.as_retriever(search_type=\"mmr\")\n",
    "retriever = db.as_retriever(search_type=\"similarity_score_threshold\", search_kwargs={\"score_threshold\": .8})\n",
    "docs = retriever.get_relevant_documents(\"Where did EasyJet cut capacity?\")\n",
    "\n",
    "# This works by taking the question, converting to embedding.Looking for the most similar document to the question that has been asked. Returning that document."
   ]
  },
  {
   "cell_type": "code",
   "execution_count": null,
   "metadata": {},
   "outputs": [],
   "source": [
    "docs"
   ]
  },
  {
   "cell_type": "code",
   "execution_count": null,
   "metadata": {},
   "outputs": [],
   "source": [
    "# All together with langchain\n",
    "from langchain.chains import RetrievalQAWithSourcesChain\n",
    "chain = RetrievalQAWithSourcesChain.from_chain_type(llm=llm, chain_type=\"stuff\", retriever=retriever, return_source_documents=True, verbose=True)\n",
    "result = chain({\"question\": \"Where did EasyJet cut capacity?\"})\n",
    "print(result[\"answer\"], \"Source: \", result[\"sources\"])\n"
   ]
  },
  {
   "cell_type": "code",
   "execution_count": null,
   "metadata": {},
   "outputs": [],
   "source": [
    "chain.combine_documents_chain.llm_chain.prompt.template"
   ]
  },
  {
   "cell_type": "markdown",
   "metadata": {},
   "source": [
    "\n",
    "```\n",
    "Given the following extracted parts of a long document and a question, create a final answer with references (\"SOURCES\").\n",
    "If you don't know the answer, just say that you don't know. Don't try to make up an answer.\n",
    "ALWAYS return a \"SOURCES\" part in your answer.\n",
    "\n",
    "QUESTION: Which state/country's law governs the interpretation of the contract?\n",
    "=========\n",
    "Content: This Agreement is governed by English law and the parties submit to the exclusive jurisdiction of the English courts in  relation to any dispute (contractual or non-contractual) concerning this Agreement save that either party may apply to any court for an  injunction or other relief to protect its Intellectual Property Rights.\n",
    "Source: 28-pl\n",
    "Content: No Waiver. Failure or delay in exercising any right or remedy under this Agreement shall not constitute a waiver of such (or any other)  right or remedy.\n",
    "\n",
    "11.7 Severability. The invalidity, illegality or unenforceability of any term (or part of a term) of this Agreement shall not affect the continuation  in force of the remainder of the term (if any) and this Agreement.\n",
    "\n",
    "11.8 No Agency. Except as expressly stated otherwise, nothing in this Agreement shall create an agency, partnership or joint venture of any  kind between the parties.\n",
    "\n",
    "11.9 No Third-Party Beneficiaries.\n",
    "Source: 30-pl\n",
    "Content: (b) if Google believes, in good faith, that the Distributor has violated or caused Google to violate any Anti-Bribery Laws (as  defined in Clause 8.5) or that such a violation is reasonably likely to occur,\n",
    "Source: 4-pl\n",
    "=========\n",
    "FINAL ANSWER: This Agreement is governed by English law.\n",
    "SOURCES: 28-pl\n",
    "\n",
    "QUESTION: What did the president say about Michael Jackson?\n",
    "=========\n",
    "Content: Madam Speaker, Madam Vice President, our First Lady and Second Gentleman. Members of Congress and the Cabinet. Justices of the Supreme Court. My fellow Americans.  \n",
    "\n",
    "Last year COVID-19 kept us apart. This year we are finally together again.\n",
    "\n",
    "Tonight, we meet as Democrats Republicans and Independents. But most importantly as Americans.\n",
    "\n",
    "With a duty to one another to the American people to the Constitution.\n",
    "\n",
    "And with an unwavering resolve that freedom will always triumph over tyranny.\n",
    "\n",
    "Six days ago, Russia’s Vladimir Putin sought to shake the foundations of the free world thinking he could make it bend to his menacing ways. But he badly miscalculated.\n",
    "\n",
    "He thought he could roll into Ukraine and the world would roll over. Instead he met a wall of strength he never imagined.\n",
    "\n",
    "He met the Ukrainian people.\n",
    "\n",
    "From President Zelenskyy to every Ukrainian, their fearlessness, their courage, their determination, inspires the world.\n",
    "\n",
    "Groups of citizens blocking tanks with their bodies. Everyone from students to retirees teachers turned soldiers defending their homeland.\n",
    "Source: 0-pl\n",
    "Content: And we won’t stop.\n",
    "\n",
    "We have lost so much to COVID-19. Time with one another. And worst of all, so much loss of life.\n",
    "\n",
    "Let’s use this moment to reset. Let’s stop looking at COVID-19 as a partisan dividing line and see it for what it is: A God-awful disease.  \n",
    "\n",
    "Let’s stop seeing each other as enemies, and start seeing each other for who we really are: Fellow Americans.  \n",
    "\n",
    "We can’t change how divided we’ve been. But we can change how we move forward—on COVID-19 and other issues we must face together.\n",
    "\n",
    "I recently visited the New York City Police Department days after the funerals of Officer Wilbert Mora and his partner, Officer Jason Rivera.\n",
    "\n",
    "They were responding to a 9-1-1 call when a man shot and killed them with a stolen gun.\n",
    "\n",
    "Officer Mora was 27 years old.\n",
    "\n",
    "Officer Rivera was 22.\n",
    "\n",
    "Both Dominican Americans who’d grown up on the same streets they later chose to patrol as police officers.\n",
    "\n",
    "I spoke with their families and told them that we are forever in debt for their sacrifice, and we will carry on their mission to restore the trust and safety every community deserves.\n",
    "Source: 24-pl\n",
    "Content: And a proud Ukrainian people, who have known 30 years  of independence, have repeatedly shown that they will not tolerate anyone who tries to take their country backwards.  \n",
    "\n",
    "To all Americans, I will be honest with you, as I’ve always promised. A Russian dictator, invading a foreign country, has costs around the world.\n",
    "\n",
    "And I’m taking robust action to make sure the pain of our sanctions  is targeted at Russia’s economy. And I will use every tool at our disposal to protect American businesses and consumers.\n",
    "\n",
    "Tonight, I can announce that the United States has worked with 30 other countries to release 60 Million barrels of oil from reserves around the world.  \n",
    "\n",
    "America will lead that effort, releasing 30 Million barrels from our own Strategic Petroleum Reserve. And we stand ready to do more if necessary, unified with our allies.  \n",
    "\n",
    "These steps will help blunt gas prices here at home. And I know the news about what’s happening can seem alarming.\n",
    "\n",
    "But I want you to know that we are going to be okay.\n",
    "Source: 5-pl\n",
    "Content: More support for patients and families.\n",
    "\n",
    "To get there, I call on Congress to fund ARPA-H, the Advanced Research Projects Agency for Health.\n",
    "\n",
    "It’s based on DARPA—the Defense Department project that led to the Internet, GPS, and so much more.  \n",
    "\n",
    "ARPA-H will have a singular purpose—to drive breakthroughs in cancer, Alzheimer’s, diabetes, and more.\n",
    "\n",
    "A unity agenda for the nation.\n",
    "\n",
    "We can do this.\n",
    "\n",
    "My fellow Americans—tonight , we have gathered in a sacred space—the citadel of our democracy.\n",
    "\n",
    "In this Capitol, generation after generation, Americans have debated great questions amid great strife, and have done great things.\n",
    "\n",
    "We have fought for freedom, expanded liberty, defeated totalitarianism and terror.\n",
    "\n",
    "And built the strongest, freest, and most prosperous nation the world has ever known.\n",
    "\n",
    "Now is the hour.\n",
    "\n",
    "Our moment of responsibility.\n",
    "\n",
    "Our test of resolve and conscience, of history itself.\n",
    "\n",
    "It is in this moment that our character is formed. Our purpose is found. Our future is forged.\n",
    "\n",
    "Well I know this nation.\n",
    "Source: 34-pl\n",
    "=========\n",
    "FINAL ANSWER: The president did not mention Michael Jackson.\n",
    "SOURCES:\n",
    "\n",
    "QUESTION: {question}\n",
    "=========\n",
    "{summaries}\n",
    "=========\n",
    "FINAL ANSWER:\n",
    "\n",
    "```"
   ]
  }
 ],
 "metadata": {
  "kernelspec": {
   "display_name": ".venv",
   "language": "python",
   "name": "python3"
  },
  "language_info": {
   "codemirror_mode": {
    "name": "ipython",
    "version": 3
   },
   "file_extension": ".py",
   "mimetype": "text/x-python",
   "name": "python",
   "nbconvert_exporter": "python",
   "pygments_lexer": "ipython3",
   "version": "3.10.12"
  }
 },
 "nbformat": 4,
 "nbformat_minor": 2
}
